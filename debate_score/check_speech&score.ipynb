{
 "cells": [
  {
   "cell_type": "markdown",
   "metadata": {},
   "source": [
    "スコアの確認\n"
   ]
  },
  {
   "cell_type": "code",
   "execution_count": 2,
   "metadata": {},
   "outputs": [],
   "source": [
    "import set_scores\n",
    "import set_debates"
   ]
  },
  {
   "cell_type": "code",
   "execution_count": 5,
   "metadata": {},
   "outputs": [],
   "source": [
    "R1_debate = \"./topic/2018R1/debates.txt\"\n",
    "R1_order = \"./topic/2018R1/orders.txt\"\n",
    "R1_score = \"./topic/2018R1/scores.txt\"\n",
    "\n",
    "R1debate_lists = set_debates.set_speech_list(R1_debate,R1_order)\n",
    "R1speeches_list = set_debates.flatten(R1debate_lists)\n",
    "\n",
    "R1score_lists = set_scores.set_score_list(R1_score,R1_order)\n",
    "R1scores_list = set_scores.flatten(R1score_lists)"
   ]
  },
  {
   "cell_type": "code",
   "execution_count": 9,
   "metadata": {},
   "outputs": [
    {
     "name": "stdout",
     "output_type": "stream",
     "text": [
      "2\n",
      "21\n",
      "-----\n",
      "1 11\n",
      "2 10\n",
      "#############\n",
      "2\n",
      "21\n",
      "-----\n",
      "1 11\n",
      "2 10\n"
     ]
    }
   ],
   "source": [
    "# 試合数\n",
    "print(len(R1debate_lists))\n",
    "# スピーチ総数\n",
    "print(len(R1speeches_list))\n",
    "print(\"-----\")\n",
    "#各試合のスピーチ数\n",
    "for i in range(len(R1debate_lists)):\n",
    "    print(i+1,len(R1debate_lists[i]))\n",
    "\n",
    "print('#############')    \n",
    "# 試合数\n",
    "print(len(R1score_lists))\n",
    "# スピーチ総数\n",
    "print(len(R1scores_list))\n",
    "print(\"-----\")\n",
    "#各試合のスピーチ数\n",
    "for i in range(len(R1score_lists)):\n",
    "    print(i+1,len(R1score_lists[i]))\n",
    "    "
   ]
  },
  {
   "cell_type": "code",
   "execution_count": 8,
   "metadata": {},
   "outputs": [
    {
     "name": "stdout",
     "output_type": "stream",
     "text": [
      "[[30.0, 25.0, 30.0, 15.0, 35.0, 30.0, -25.0, 15.0, 15.0, -15.0, -10.0], [40.0, 30.0, 40.0, 35.0, 50.0, 45.0, -25.0, 15.0, -10.0, 15.0]]\n"
     ]
    }
   ],
   "source": [
    "print(R1score_lists)"
   ]
  },
  {
   "cell_type": "code",
   "execution_count": 11,
   "metadata": {},
   "outputs": [],
   "source": [
    "R2_debate = \"./topic/2018R2/debates.txt\"\n",
    "R2_order = \"./topic/2018R2/orders.txt\"\n",
    "R2_score = \"./topic/2018R2/scores.txt\"\n",
    "\n",
    "R2debate_lists = set_debates.set_speech_list(R2_debate,R2_order)\n",
    "R2speeches_list = set_debates.flatten(R2debate_lists)\n",
    "\n",
    "R2score_lists = set_scores.set_score_list(R2_score,R2_order)\n",
    "R2scores_list = set_scores.flatten(R2score_lists)"
   ]
  },
  {
   "cell_type": "code",
   "execution_count": 12,
   "metadata": {},
   "outputs": [
    {
     "name": "stdout",
     "output_type": "stream",
     "text": [
      "4\n",
      "38\n",
      "-----\n",
      "1 6\n",
      "2 10\n",
      "3 11\n",
      "4 11\n",
      "#############\n",
      "4\n",
      "38\n",
      "-----\n",
      "1 6\n",
      "2 10\n",
      "3 11\n",
      "4 11\n"
     ]
    }
   ],
   "source": [
    "# 試合数\n",
    "print(len(R2debate_lists))\n",
    "# スピーチ総数\n",
    "print(len(R2speeches_list))\n",
    "print(\"-----\")\n",
    "#各試合のスピーチ数\n",
    "for i in range(len(R2debate_lists)):\n",
    "    print(i+1,len(R2debate_lists[i]))\n",
    "\n",
    "print('#############')    \n",
    "# 試合数\n",
    "print(len(R2score_lists))\n",
    "# スピーチ総数\n",
    "print(len(R2scores_list))\n",
    "print(\"-----\")\n",
    "#各試合のスピーチ数\n",
    "for i in range(len(R2score_lists)):\n",
    "    print(i+1,len(R2score_lists[i]))\n",
    "    "
   ]
  },
  {
   "cell_type": "code",
   "execution_count": 13,
   "metadata": {},
   "outputs": [
    {
     "name": "stdout",
     "output_type": "stream",
     "text": [
      "[[30.0, 30.0, 30.0, -30.0, -20.0, -20.0], [15.0, 15.0, 15.0, 25.0, 5.0, -25.0, -20.0, -25.0, -10.0, -10.0], [35.0, 25.0, 30.0, 20.0, 25.0, 10.0, -25.0, -15.0, -25.0, -10.0, 0.0], [25.0, 20.0, 25.0, 25.0, 35.0, 35.0, -20.0, 5.0, 0.0, -20.0, -20.0]]\n"
     ]
    }
   ],
   "source": [
    "print(R2score_lists)"
   ]
  },
  {
   "cell_type": "code",
   "execution_count": 14,
   "metadata": {},
   "outputs": [],
   "source": [
    "R3_debate = \"./topic/2017R3/debates.txt\"\n",
    "R3_order = \"./topic/2017R3/orders.txt\"\n",
    "R3_score = \"./topic/2017R3/scores.txt\"\n",
    "\n",
    "R3debate_lists = set_debates.set_speech_list(R3_debate,R3_order)\n",
    "R3speeches_list = set_debates.flatten(R3debate_lists)\n",
    "\n",
    "R3score_lists = set_scores.set_score_list(R3_score,R3_order)\n",
    "R3scores_list = set_scores.flatten(R3score_lists)"
   ]
  },
  {
   "cell_type": "code",
   "execution_count": 15,
   "metadata": {},
   "outputs": [
    {
     "name": "stdout",
     "output_type": "stream",
     "text": [
      "5\n",
      "50\n",
      "-----\n",
      "1 9\n",
      "2 11\n",
      "3 9\n",
      "4 10\n",
      "5 11\n",
      "#############\n",
      "5\n",
      "50\n",
      "-----\n",
      "1 9\n",
      "2 11\n",
      "3 9\n",
      "4 10\n",
      "5 11\n"
     ]
    }
   ],
   "source": [
    "# 試合数\n",
    "print(len(R3debate_lists))\n",
    "# スピーチ総数\n",
    "print(len(R3speeches_list))\n",
    "print(\"-----\")\n",
    "#各試合のスピーチ数\n",
    "for i in range(len(R3debate_lists)):\n",
    "    print(i+1,len(R3debate_lists[i]))\n",
    "\n",
    "print('#############')    \n",
    "# 試合数\n",
    "print(len(R3score_lists))\n",
    "# スピーチ総数\n",
    "print(len(R3scores_list))\n",
    "print(\"-----\")\n",
    "#各試合のスピーチ数\n",
    "for i in range(len(R3score_lists)):\n",
    "    print(i+1,len(R3score_lists[i]))\n",
    "    "
   ]
  },
  {
   "cell_type": "code",
   "execution_count": 16,
   "metadata": {},
   "outputs": [
    {
     "name": "stdout",
     "output_type": "stream",
     "text": [
      "[[25.0, 0.0, 0.0, 20.0, -20.0, -25.0, -25.0, -40.0, -25.0], [30.0, 30.0, 35.0, 35.0, 25.0, 20.0, -25.0, 0.0, -5.0, -20.0, -15.0], [20.0, 10.0, 15.0, 5.0, 10.0, -5.0, -25.0, -25.0, -15.0], [25.0, 25.0, 25.0, 25.0, 5.0, 5.0, -5.0, 5.0, -20.0, -15.0], [15.0, 15.0, 15.0, -10.0, 15.0, -5.0, -35.0, -35.0, -35.0, -25.0, -25.0]]\n"
     ]
    }
   ],
   "source": [
    "print(R3score_lists)"
   ]
  },
  {
   "cell_type": "code",
   "execution_count": 18,
   "metadata": {},
   "outputs": [],
   "source": [
    "R4_debate = \"./topic/2017R4/debates.txt\"\n",
    "R4_order = \"./topic/2017R4/orders.txt\"\n",
    "R4_score = \"./topic/2017R4/scores.txt\"\n",
    "\n",
    "R4debate_lists = set_debates.set_speech_list(R4_debate,R4_order)\n",
    "R4speeches_list = set_debates.flatten(R4debate_lists)\n",
    "\n",
    "R4score_lists = set_scores.set_score_list(R4_score,R4_order)\n",
    "R4scores_list = set_scores.flatten(R4score_lists)"
   ]
  },
  {
   "cell_type": "code",
   "execution_count": 19,
   "metadata": {},
   "outputs": [
    {
     "name": "stdout",
     "output_type": "stream",
     "text": [
      "1\n",
      "11\n",
      "-----\n",
      "1 11\n",
      "#############\n",
      "1\n",
      "11\n",
      "-----\n",
      "1 11\n"
     ]
    }
   ],
   "source": [
    "# 試合数\n",
    "print(len(R4debate_lists))\n",
    "# スピーチ総数\n",
    "print(len(R4speeches_list))\n",
    "print(\"-----\")\n",
    "#各試合のスピーチ数\n",
    "for i in range(len(R4debate_lists)):\n",
    "    print(i+1,len(R4debate_lists[i]))\n",
    "\n",
    "print('#############')    \n",
    "# 試合数\n",
    "print(len(R4score_lists))\n",
    "# スピーチ総数\n",
    "print(len(R4scores_list))\n",
    "print(\"-----\")\n",
    "#各試合のスピーチ数\n",
    "for i in range(len(R4score_lists)):\n",
    "    print(i+1,len(R4score_lists[i]))\n",
    "    "
   ]
  },
  {
   "cell_type": "code",
   "execution_count": 20,
   "metadata": {},
   "outputs": [
    {
     "name": "stdout",
     "output_type": "stream",
     "text": [
      "[[40.0, 35.0, 35.0, 30.0, 30.0, 30.0, -20.0, -10.0, -15.0, -15.0, -5.0]]\n"
     ]
    }
   ],
   "source": [
    "print(R4score_lists)"
   ]
  },
  {
   "cell_type": "code",
   "execution_count": null,
   "metadata": {},
   "outputs": [],
   "source": []
  }
 ],
 "metadata": {
  "kernelspec": {
   "display_name": "Python 3",
   "language": "python",
   "name": "python3"
  },
  "language_info": {
   "codemirror_mode": {
    "name": "ipython",
    "version": 3
   },
   "file_extension": ".py",
   "mimetype": "text/x-python",
   "name": "python",
   "nbconvert_exporter": "python",
   "pygments_lexer": "ipython3",
   "version": "3.7.5"
  }
 },
 "nbformat": 4,
 "nbformat_minor": 2
}
