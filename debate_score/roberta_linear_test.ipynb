{
 "cells": [
  {
   "cell_type": "code",
   "execution_count": 1,
   "metadata": {
    "colab": {},
    "colab_type": "code",
    "id": "cDuMI1wKZ3XX"
   },
   "outputs": [
    {
     "data": {
      "text/plain": [
       "'/home/dyna/Documents/sawada/debate_score'"
      ]
     },
     "execution_count": 1,
     "metadata": {},
     "output_type": "execute_result"
    }
   ],
   "source": [
    "import os\n",
    "path = os.getcwd()\n",
    "path"
   ]
  },
  {
   "cell_type": "code",
   "execution_count": 2,
   "metadata": {
    "colab": {
     "base_uri": "https://localhost:8080/",
     "height": 474
    },
    "colab_type": "code",
    "executionInfo": {
     "elapsed": 7811,
     "status": "ok",
     "timestamp": 1574817552481,
     "user": {
      "displayName": "慎太郎澤田",
      "photoUrl": "https://lh3.googleusercontent.com/a-/AAuE7mDWYUabe2G6476Ai78ROUV-hcaBzIiXCf1-4SNC=s64",
      "userId": "02384852736303734518"
     },
     "user_tz": -540
    },
    "id": "U1ekbciYY-u8",
    "outputId": "84610b52-8184-4600-8001-db5d867347b3"
   },
   "outputs": [
    {
     "name": "stderr",
     "output_type": "stream",
     "text": [
      "Using TensorFlow backend.\n"
     ]
    }
   ],
   "source": [
    "# roberta_linear_test\n",
    "## import module\n",
    "\n",
    "import random\n",
    "import numpy as np\n",
    "from transformers import RobertaConfig, RobertaModel, RobertaTokenizer\n",
    "import torch\n",
    "import torch.nn as nn\n",
    "import torch.optim as optim\n",
    "import torch.nn.functional as F\n",
    "from torch.autograd import Variable\n",
    "from torch.utils.tensorboard import SummaryWriter\n",
    "from keras.preprocessing import sequence\n",
    "from matplotlib import pyplot as plt\n",
    "import set_debates\n"
   ]
  },
  {
   "cell_type": "code",
   "execution_count": 3,
   "metadata": {
    "colab": {
     "base_uri": "https://localhost:8080/",
     "height": 34
    },
    "colab_type": "code",
    "executionInfo": {
     "elapsed": 1611,
     "status": "ok",
     "timestamp": 1574817554717,
     "user": {
      "displayName": "慎太郎澤田",
      "photoUrl": "https://lh3.googleusercontent.com/a-/AAuE7mDWYUabe2G6476Ai78ROUV-hcaBzIiXCf1-4SNC=s64",
      "userId": "02384852736303734518"
     },
     "user_tz": -540
    },
    "id": "zRt1CtAUWx7I",
    "outputId": "0b709b59-3f25-4235-93fd-1e638543a9f6"
   },
   "outputs": [
    {
     "data": {
      "text/plain": [
       "device(type='cuda')"
      ]
     },
     "execution_count": 3,
     "metadata": {},
     "output_type": "execute_result"
    }
   ],
   "source": [
    "# cuda\n",
    "device = torch.device(\"cuda\" if torch.cuda.is_available() else \"cpu\")\n",
    "device"
   ]
  },
  {
   "cell_type": "code",
   "execution_count": 4,
   "metadata": {
    "colab": {},
    "colab_type": "code",
    "id": "bLybtAqtY-u8"
   },
   "outputs": [
    {
     "data": {
      "text/plain": [
       "True"
      ]
     },
     "execution_count": 4,
     "metadata": {},
     "output_type": "execute_result"
    }
   ],
   "source": [
    "## speech, score set\n",
    "\n",
    "microchip_debate = \"./topic/microchip/debates.txt\"\n",
    "microchip_order = \"./topic/microchip/orders.txt\"\n",
    "microchip_score = \"./topic/microchip/scores.txt\"\n",
    "part_job_debate = \"./topic/part-time-job/debates.txt\"\n",
    "part_job_order = \"./topic/part-time-job/orders.txt\"\n",
    "part_job_score = \"./topic/part-time-job/scores.txt\"\n",
    "four_work_debate = \"./topic/four-day-work/debates.txt\"\n",
    "four_work_order = \"./topic/four-day-work/orders.txt\"\n",
    "four_work_score = \"./topic/four-day-work/scores.txt\"\n",
    "\n",
    "# speech\n",
    "Mdebate_lists = set_debates.set_speech_list(microchip_debate,microchip_order)\n",
    "Mspeeches_list = set_debates.flatten(Mdebate_lists)\n",
    "# score\n",
    "with open(microchip_score, 'r') as h:\n",
    "    scores = h.read()\n",
    "    Mscore_list = [float(s) for s in scores.split()]\n",
    "    \n",
    "# check    \n",
    "len(Mspeeches_list) == len(Mscore_list)"
   ]
  },
  {
   "cell_type": "code",
   "execution_count": 6,
   "metadata": {
    "colab": {
     "base_uri": "https://localhost:8080/",
     "height": 496
    },
    "colab_type": "code",
    "executionInfo": {
     "elapsed": 2040,
     "status": "ok",
     "timestamp": 1574817563139,
     "user": {
      "displayName": "慎太郎澤田",
      "photoUrl": "https://lh3.googleusercontent.com/a-/AAuE7mDWYUabe2G6476Ai78ROUV-hcaBzIiXCf1-4SNC=s64",
      "userId": "02384852736303734518"
     },
     "user_tz": -540
    },
    "id": "4hBT-eOFY-vQ",
    "outputId": "ed84c194-9e16-4a29-ce11-97ed17a33fa9",
    "scrolled": true
   },
   "outputs": [
    {
     "data": {
      "text/plain": [
       "\"\\n##test\\n# token\\ntest_speech_tokens = list(\\n    map(\\n        lambda t: tokenizer.tokenize(t)[:511], x_test\\n    )\\n)\\n# encode   -ids\\ntest_speech_ids = list(\\n    map(\\n        lambda t: tokenizer.encode(t, add_special_tokens=True), test_speech_tokens\\n    )\\n)\\n# 512に\\ntest_speech_ids = sequence.pad_sequences(\\n    test_speech_ids, maxlen=512, truncating='post', padding='post', dtype='int'\\n)\\n\""
      ]
     },
     "execution_count": 6,
     "metadata": {},
     "output_type": "execute_result"
    }
   ],
   "source": [
    "## prepare inputs\n",
    "\n",
    "##train\n",
    "# tokenizer\n",
    "tokenizer = RobertaTokenizer.from_pretrained(\"roberta-large\")\n",
    "# token\n",
    "speech_tokens = list(\n",
    "    map(\n",
    "        lambda t: tokenizer.tokenize(t)[:511], Mspeeches_list\n",
    "    )\n",
    ")\n",
    "# encode   -ids\n",
    "speech_ids = list(\n",
    "    map(\n",
    "        lambda t: tokenizer.encode(t, add_special_tokens=True), speech_tokens\n",
    "    )\n",
    ")\n",
    "# 要素の大きさを512に　つめる\n",
    "speech_ids = sequence.pad_sequences(\n",
    "    speech_ids, maxlen=512, truncating='post', padding='post', dtype='int'\n",
    ")\n",
    "\n",
    "\"\"\"\n",
    "##test\n",
    "# token\n",
    "test_speech_tokens = list(\n",
    "    map(\n",
    "        lambda t: tokenizer.tokenize(t)[:511], x_test\n",
    "    )\n",
    ")\n",
    "# encode   -ids\n",
    "test_speech_ids = list(\n",
    "    map(\n",
    "        lambda t: tokenizer.encode(t, add_special_tokens=True), test_speech_tokens\n",
    "    )\n",
    ")\n",
    "# 512に\n",
    "test_speech_ids = sequence.pad_sequences(\n",
    "    test_speech_ids, maxlen=512, truncating='post', padding='post', dtype='int'\n",
    ")\n",
    "\"\"\""
   ]
  },
  {
   "cell_type": "code",
   "execution_count": 7,
   "metadata": {
    "colab": {
     "base_uri": "https://localhost:8080/",
     "height": 34
    },
    "colab_type": "code",
    "executionInfo": {
     "elapsed": 578,
     "status": "ok",
     "timestamp": 1574817565678,
     "user": {
      "displayName": "慎太郎澤田",
      "photoUrl": "https://lh3.googleusercontent.com/a-/AAuE7mDWYUabe2G6476Ai78ROUV-hcaBzIiXCf1-4SNC=s64",
      "userId": "02384852736303734518"
     },
     "user_tz": -540
    },
    "id": "-JsWGMJWY-vW",
    "outputId": "7fdf7002-c837-4101-f82a-986e90df960d"
   },
   "outputs": [
    {
     "data": {
      "text/plain": [
       "50"
      ]
     },
     "execution_count": 7,
     "metadata": {},
     "output_type": "execute_result"
    }
   ],
   "source": [
    "# 確認\n",
    "len(speech_ids)"
   ]
  },
  {
   "cell_type": "code",
   "execution_count": 9,
   "metadata": {
    "colab": {
     "base_uri": "https://localhost:8080/",
     "height": 34
    },
    "colab_type": "code",
    "executionInfo": {
     "elapsed": 17542,
     "status": "ok",
     "timestamp": 1574817584711,
     "user": {
      "displayName": "慎太郎澤田",
      "photoUrl": "https://lh3.googleusercontent.com/a-/AAuE7mDWYUabe2G6476Ai78ROUV-hcaBzIiXCf1-4SNC=s64",
      "userId": "02384852736303734518"
     },
     "user_tz": -540
    },
    "id": "VkfyYrZIY-vd",
    "outputId": "6050f2e2-ed8c-4069-86d0-58baaa96a2cb"
   },
   "outputs": [
    {
     "data": {
      "text/plain": [
       "'\\n## test\\ntest_input_roberta = torch.tensor(test_speech_ids)\\ntest_input_roberta = test_input_roberta.to(device)\\nwith torch.no_grad():\\n    test_roberta_out = roberta(test_input_roberta)\\ntest_pooled_speech = test_roberta_out[1]\\ntest_pooled_speech.size()\\n'"
      ]
     },
     "execution_count": 9,
     "metadata": {},
     "output_type": "execute_result"
    }
   ],
   "source": [
    "##train\n",
    "# to_tensor\n",
    "input_roberta = torch.tensor(speech_ids)\n",
    "# input_size\n",
    "input_roberta = input_roberta.to(device)\n",
    "roberta = RobertaModel.from_pretrained(\"roberta-large\")\n",
    "roberta = roberta.to(device)\n",
    "with torch.no_grad():\n",
    "    roberta_out = roberta(input_roberta)\n",
    "pooled_speech = roberta_out[1]\n",
    "\n",
    "\"\"\"\n",
    "## test\n",
    "test_input_roberta = torch.tensor(test_speech_ids)\n",
    "test_input_roberta = test_input_roberta.to(device)\n",
    "with torch.no_grad():\n",
    "    test_roberta_out = roberta(test_input_roberta)\n",
    "test_pooled_speech = test_roberta_out[1]\n",
    "test_pooled_speech.size()\n",
    "\"\"\""
   ]
  },
  {
   "cell_type": "code",
   "execution_count": 119,
   "metadata": {
    "colab": {},
    "colab_type": "code",
    "id": "xi7ZbVG0H7bl",
    "scrolled": true
   },
   "outputs": [
    {
     "name": "stdout",
     "output_type": "stream",
     "text": [
      "200\n",
      "200\n"
     ]
    }
   ],
   "source": [
    "\"\"\"\n",
    "import pandas as pd\n",
    "\n",
    "pd.set_option('display.max_columns', 200)\n",
    "print(pd.get_option(\"display.max_columns\"))\n",
    "pd.set_option('display.max_rows', 200)\n",
    "print(pd.get_option(\"display.max_rows\"))\n",
    "\n",
    "pooled_speech = pooled_speech.cpu().numpy()\n",
    "tamtam = pd.DataFrame(pooled_speech)\n",
    "## numpyになおしている注意\n",
    "tamtam.to_csv(\"pooled_speech.csv\")\n",
    "\"\"\""
   ]
  },
  {
   "cell_type": "code",
   "execution_count": 10,
   "metadata": {
    "colab": {
     "base_uri": "https://localhost:8080/",
     "height": 105
    },
    "colab_type": "code",
    "executionInfo": {
     "elapsed": 554,
     "status": "ok",
     "timestamp": 1574817829994,
     "user": {
      "displayName": "慎太郎澤田",
      "photoUrl": "https://lh3.googleusercontent.com/a-/AAuE7mDWYUabe2G6476Ai78ROUV-hcaBzIiXCf1-4SNC=s64",
      "userId": "02384852736303734518"
     },
     "user_tz": -540
    },
    "id": "dsUsGWORZ1-h",
    "outputId": "23283589-87ba-485c-dc1e-f966f3467903"
   },
   "outputs": [
    {
     "data": {
      "text/plain": [
       "tensor([ 28.5000,  24.2000,  27.1000,  20.0000,  14.2000,   8.5700, -25.7000,\n",
       "         -5.7100, -20.0000, -15.7000,  26.6000, -20.0000,  -6.6600, -16.6000,\n",
       "         13.3000, -10.0000, -30.0000, -10.0000, -26.6000, -40.0000, -23.3000,\n",
       "         28.7000,  13.8000,  20.0000,  12.5000,  26.3000,  15.0000, -32.5000,\n",
       "        -26.3000, -27.5000,  28.7000,   7.5000,  12.5000,  17.5000,  10.0000,\n",
       "        -32.5000, -22.5000, -28.7500, -27.5000, -18.7500,  28.0000,  12.0000,\n",
       "         16.0000,  16.0000,   2.0000, -26.0000, -18.0000, -22.0000, -22.0000,\n",
       "        -18.0000], device='cuda:0')"
      ]
     },
     "execution_count": 10,
     "metadata": {},
     "output_type": "execute_result"
    }
   ],
   "source": [
    "# label 確認\n",
    "y_train = torch.tensor(Mscore_list, device=device)\n",
    "\n",
    "y_train"
   ]
  },
  {
   "cell_type": "code",
   "execution_count": 11,
   "metadata": {
    "colab": {},
    "colab_type": "code",
    "id": "GChf8nfCkBfv"
   },
   "outputs": [],
   "source": [
    "# define_model\n",
    "class Net(nn.Module):\n",
    "    def __init__(self):\n",
    "        super(Net, self).__init__()\n",
    "        self.fc1 = nn.Linear(1024, 1)\n",
    "\n",
    "    def forward(self, x):\n",
    "        out = self.fc1(x)\n",
    "        return out"
   ]
  },
  {
   "cell_type": "code",
   "execution_count": 12,
   "metadata": {
    "colab": {},
    "colab_type": "code",
    "id": "MIAszZrCRNnV"
   },
   "outputs": [],
   "source": [
    "# hyper params\n",
    "num_epochs = 500\n",
    "learning_rate = 3e-4\n",
    "\n",
    "model_cls = Net()\n",
    "criterion = nn.MSELoss()\n",
    "optimizer = optim.Adam(model_cls.parameters(), lr=learning_rate)\n",
    "model_cls = model_cls.to(device)"
   ]
  },
  {
   "cell_type": "code",
   "execution_count": 18,
   "metadata": {
    "colab": {
     "base_uri": "https://localhost:8080/",
     "height": 134
    },
    "colab_type": "code",
    "executionInfo": {
     "elapsed": 508,
     "status": "error",
     "timestamp": 1574817994882,
     "user": {
      "displayName": "慎太郎澤田",
      "photoUrl": "https://lh3.googleusercontent.com/a-/AAuE7mDWYUabe2G6476Ai78ROUV-hcaBzIiXCf1-4SNC=s64",
      "userId": "02384852736303734518"
     },
     "user_tz": -540
    },
    "id": "_tTogMIjpHDw",
    "outputId": "47ed36a3-8620-4ac9-f521-df71fb1660e8",
    "scrolled": true
   },
   "outputs": [
    {
     "name": "stdout",
     "output_type": "stream",
     "text": [
      "Epoch:10, Loss(train):461.4875\n",
      "Epoch:20, Loss(train):459.3588\n",
      "Epoch:30, Loss(train):459.1491\n",
      "Epoch:40, Loss(train):459.2196\n",
      "Epoch:50, Loss(train):459.1504\n",
      "Epoch:60, Loss(train):459.1212\n",
      "Epoch:70, Loss(train):459.1251\n",
      "Epoch:80, Loss(train):459.1219\n",
      "Epoch:90, Loss(train):459.1206\n",
      "Epoch:100, Loss(train):459.1208\n",
      "Epoch:110, Loss(train):459.1205\n",
      "Epoch:120, Loss(train):459.1205\n",
      "Epoch:130, Loss(train):459.1205\n",
      "Epoch:140, Loss(train):459.1204\n",
      "Epoch:150, Loss(train):459.1204\n",
      "Epoch:160, Loss(train):459.1204\n",
      "Epoch:170, Loss(train):459.1204\n",
      "Epoch:180, Loss(train):459.1203\n",
      "Epoch:190, Loss(train):459.1202\n",
      "Epoch:200, Loss(train):459.1202\n",
      "Epoch:210, Loss(train):459.1202\n",
      "Epoch:220, Loss(train):459.1202\n",
      "Epoch:230, Loss(train):459.1201\n",
      "Epoch:240, Loss(train):459.1201\n",
      "Epoch:250, Loss(train):459.1201\n",
      "Epoch:260, Loss(train):459.1201\n",
      "Epoch:270, Loss(train):459.1201\n",
      "Epoch:280, Loss(train):459.1200\n",
      "Epoch:290, Loss(train):459.1200\n",
      "Epoch:300, Loss(train):459.1200\n",
      "Epoch:310, Loss(train):459.1200\n",
      "Epoch:320, Loss(train):459.1199\n",
      "Epoch:330, Loss(train):459.1200\n",
      "Epoch:340, Loss(train):459.1199\n",
      "Epoch:350, Loss(train):459.1198\n",
      "Epoch:360, Loss(train):459.1198\n",
      "Epoch:370, Loss(train):459.1198\n",
      "Epoch:380, Loss(train):459.1198\n",
      "Epoch:390, Loss(train):459.1198\n",
      "Epoch:400, Loss(train):459.1198\n",
      "Epoch:410, Loss(train):459.1197\n",
      "Epoch:420, Loss(train):459.1197\n",
      "Epoch:430, Loss(train):459.1198\n",
      "Epoch:440, Loss(train):459.1197\n",
      "Epoch:450, Loss(train):459.1197\n",
      "Epoch:460, Loss(train):459.1197\n",
      "Epoch:470, Loss(train):459.1196\n",
      "Epoch:480, Loss(train):459.1197\n",
      "Epoch:490, Loss(train):459.1196\n",
      "Epoch:500, Loss(train):459.1196\n",
      "----DONE----\n"
     ]
    }
   ],
   "source": [
    "\n",
    "# set\\data\\logger\n",
    "loss_log = []\n",
    "loss_v_log = []\n",
    "\n",
    "\n",
    "for epoch in range(num_epochs):\n",
    "  # forward pass\n",
    "    outputs = model_cls(pooled_speech)\n",
    "    loss = criterion(outputs, y_train)\n",
    "\n",
    "  # backward\n",
    "    optimizer.zero_grad()\n",
    "    loss.backward()\n",
    "    optimizer.step()\n",
    "    \n",
    "\n",
    "    if (epoch+1) % 10 == 0:\n",
    "        print(\"Epoch:{}, Loss(train):{:.4f}\".format(epoch+1, loss.item()))\n",
    "\n",
    "\n",
    "# graph\n",
    "    loss_log.append(loss.item())\n",
    "#    loss_v_log.append(loss_val.item())\n",
    "    \n",
    "print('----DONE----')"
   ]
  },
  {
   "cell_type": "code",
   "execution_count": 19,
   "metadata": {
    "colab": {
     "base_uri": "https://localhost:8080/",
     "height": 566
    },
    "colab_type": "code",
    "executionInfo": {
     "elapsed": 946,
     "status": "ok",
     "timestamp": 1574818452121,
     "user": {
      "displayName": "慎太郎澤田",
      "photoUrl": "https://lh3.googleusercontent.com/a-/AAuE7mDWYUabe2G6476Ai78ROUV-hcaBzIiXCf1-4SNC=s64",
      "userId": "02384852736303734518"
     },
     "user_tz": -540
    },
    "id": "OC1WQNuda_Wi",
    "outputId": "942f6e43-97bc-44c9-af63-ffb2a52d8d80"
   },
   "outputs": [
    {
     "data": {
      "image/png": "[encoded data removed]",
      "text/plain": [
       "<Figure size 432x288 with 1 Axes>"
      ]
     },
     "metadata": {
      "needs_background": "light"
     },
     "output_type": "display_data"
    }
   ],
   "source": [
    "plt.plot(loss_log)\n",
    "plt.xlabel('epoch')\n",
    "plt.ylabel('loss')\n",
    "plt.show()\n",
    "\n",
    "#plt.plot(loss_v_log)"
   ]
  },
  {
   "cell_type": "code",
   "execution_count": 118,
   "metadata": {
    "colab": {
     "base_uri": "https://localhost:8080/",
     "height": 561
    },
    "colab_type": "code",
    "executionInfo": {
     "elapsed": 1142,
     "status": "ok",
     "timestamp": 1574148580161,
     "user": {
      "displayName": "慎太郎澤田",
      "photoUrl": "https://lh3.googleusercontent.com/a-/AAuE7mDWYUabe2G6476Ai78ROUV-hcaBzIiXCf1-4SNC=s64",
      "userId": "02384852736303734518"
     },
     "user_tz": -540
    },
    "id": "vAcF38cauE7y",
    "outputId": "15ca0259-48a7-4d4e-e602-ffc4108d103e"
   },
   "outputs": [
    {
     "name": "stdout",
     "output_type": "stream",
     "text": [
      "tensor([[21.2917],\n",
      "        [21.2917],\n",
      "        [21.2917],\n",
      "        [21.2917],\n",
      "        [23.1265],\n",
      "        [22.5718],\n",
      "        [22.8386],\n",
      "        [23.1240],\n",
      "        [22.8567],\n",
      "        [22.6314]], device='cuda:0') tensor([ 29.,  15.,  25.,  14.,  18.,   8., -31., -20., -20., -24., -24.],\n",
      "       device='cuda:0')\n"
     ]
    }
   ],
   "source": [
    "\"\"\"\n",
    "# eval(teacher_data)\n",
    "\n",
    "with torch.no_grad():\n",
    "    preds = model_cls(test_pooled_speech)\n",
    "\n",
    "print(preds, y_test)\n",
    "\n",
    "\"\"\""
   ]
  },
  {
   "cell_type": "code",
   "execution_count": null,
   "metadata": {},
   "outputs": [],
   "source": []
  }
 ],
 "metadata": {
  "accelerator": "GPU",
  "colab": {
   "collapsed_sections": [],
   "name": "roberta_linear_test.ipynb",
   "provenance": []
  },
  "kernelspec": {
   "display_name": "Python 3",
   "language": "python",
   "name": "python3"
  },
  "language_info": {
   "codemirror_mode": {
    "name": "ipython",
    "version": 3
   },
   "file_extension": ".py",
   "mimetype": "text/x-python",
   "name": "python",
   "nbconvert_exporter": "python",
   "pygments_lexer": "ipython3",
   "version": "3.7.5"
  }
 },
 "nbformat": 4,
 "nbformat_minor": 1
}
