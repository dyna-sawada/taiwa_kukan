{
 "cells": [
  {
   "cell_type": "code",
   "execution_count": 1,
   "metadata": {
    "colab": {},
    "colab_type": "code",
    "id": "cDuMI1wKZ3XX"
   },
   "outputs": [
    {
     "data": {
      "text/plain": [
       "'/home/dyna/Documents/sawada/debate_score'"
      ]
     },
     "execution_count": 1,
     "metadata": {},
     "output_type": "execute_result"
    }
   ],
   "source": [
    "import os\n",
    "path = os.getcwd()\n",
    "path"
   ]
  },
  {
   "cell_type": "code",
   "execution_count": 2,
   "metadata": {
    "colab": {
     "base_uri": "https://localhost:8080/",
     "height": 474
    },
    "colab_type": "code",
    "executionInfo": {
     "elapsed": 7811,
     "status": "ok",
     "timestamp": 1574817552481,
     "user": {
      "displayName": "慎太郎澤田",
      "photoUrl": "https://lh3.googleusercontent.com/a-/AAuE7mDWYUabe2G6476Ai78ROUV-hcaBzIiXCf1-4SNC=s64",
      "userId": "02384852736303734518"
     },
     "user_tz": -540
    },
    "id": "U1ekbciYY-u8",
    "outputId": "84610b52-8184-4600-8001-db5d867347b3"
   },
   "outputs": [
    {
     "name": "stderr",
     "output_type": "stream",
     "text": [
      "Using TensorFlow backend.\n"
     ]
    }
   ],
   "source": [
    "# roberta_linear_test\n",
    "## import module\n",
    "\n",
    "import random\n",
    "import numpy as np\n",
    "from transformers import RobertaConfig, RobertaModel, RobertaTokenizer\n",
    "import torch\n",
    "import torch.nn as nn\n",
    "import torch.optim as optim\n",
    "import torch.nn.functional as F\n",
    "from torch.autograd import Variable\n",
    "from torch.utils.tensorboard import SummaryWriter\n",
    "from keras.preprocessing import sequence\n",
    "from matplotlib import pyplot as plt\n",
    "import set_debates\n"
   ]
  },
  {
   "cell_type": "code",
   "execution_count": 3,
   "metadata": {
    "colab": {
     "base_uri": "https://localhost:8080/",
     "height": 34
    },
    "colab_type": "code",
    "executionInfo": {
     "elapsed": 1611,
     "status": "ok",
     "timestamp": 1574817554717,
     "user": {
      "displayName": "慎太郎澤田",
      "photoUrl": "https://lh3.googleusercontent.com/a-/AAuE7mDWYUabe2G6476Ai78ROUV-hcaBzIiXCf1-4SNC=s64",
      "userId": "02384852736303734518"
     },
     "user_tz": -540
    },
    "id": "zRt1CtAUWx7I",
    "outputId": "0b709b59-3f25-4235-93fd-1e638543a9f6"
   },
   "outputs": [
    {
     "data": {
      "text/plain": [
       "device(type='cuda')"
      ]
     },
     "execution_count": 3,
     "metadata": {},
     "output_type": "execute_result"
    }
   ],
   "source": [
    "# cuda\n",
    "device = torch.device(\"cuda\" if torch.cuda.is_available() else \"cpu\")\n",
    "device"
   ]
  },
  {
   "cell_type": "code",
   "execution_count": 4,
   "metadata": {
    "colab": {},
    "colab_type": "code",
    "id": "bLybtAqtY-u8",
    "scrolled": true
   },
   "outputs": [
    {
     "data": {
      "text/plain": [
       "10"
      ]
     },
     "execution_count": 4,
     "metadata": {},
     "output_type": "execute_result"
    }
   ],
   "source": [
    "## speech, score set\n",
    "\n",
    "microchip_debate = \"./topic/microchip/debates.txt\"\n",
    "microchip_order = \"./topic/microchip/orders.txt\"\n",
    "microchip_score = \"./topic/microchip/scores.txt\"\n",
    "part_job_debate = \"./topic/part-time-job/debates.txt\"\n",
    "part_job_order = \"./topic/part-time-job/orders.txt\"\n",
    "part_job_score = \"./topic/part-time-job/scores.txt\"\n",
    "four_work_debate = \"./topic/four-day-work/debates.txt\"\n",
    "four_work_order = \"./topic/four-day-work/orders.txt\"\n",
    "four_work_score = \"./topic/four-day-work/scores.txt\"\n",
    "\n",
    "# microchip_speech\n",
    "Mdebate_lists = set_debates.set_speech_list(microchip_debate,microchip_order)\n",
    "Mspeeches_list = set_debates.flatten(Mdebate_lists)\n",
    "# microchip_score\n",
    "with open(microchip_score, 'r') as h:\n",
    "    scores = h.read()\n",
    "    Mscore_list = [float(s) for s in scores.split()]\n",
    "\n",
    "# part_job_speech\n",
    "Pdebate_lists = set_debates.set_speech_list(part_job_debate,part_job_order)\n",
    "Pspeeches_list = set_debates.flatten(Pdebate_lists)\n",
    "# part_job_score\n",
    "with open(part_job_score, 'r') as h:\n",
    "    scores = h.read()\n",
    "    Pscore_list = [float(s) for s in scores.split()]\n",
    "\n",
    "# four-work_speech\n",
    "Fdebate_lists = set_debates.set_speech_list(four_work_debate, four_work_order)\n",
    "Fspeeches_list = set_debates.flatten(Fdebate_lists)\n",
    "# four-work_score\n",
    "with open(four_work_score, 'r') as h:\n",
    "    scores = h.read()\n",
    "    Fscore_list = [float(s) for s in scores.split()]\n",
    "    \n",
    "# check    \n",
    "Mspeech_test = Mspeeches_list[:10]\n",
    "Mspeech_train = Mspeeches_list[10:]\n",
    "len(Mspeech_test)"
   ]
  },
  {
   "cell_type": "code",
   "execution_count": 5,
   "metadata": {
    "colab": {
     "base_uri": "https://localhost:8080/",
     "height": 496
    },
    "colab_type": "code",
    "executionInfo": {
     "elapsed": 2040,
     "status": "ok",
     "timestamp": 1574817563139,
     "user": {
      "displayName": "慎太郎澤田",
      "photoUrl": "https://lh3.googleusercontent.com/a-/AAuE7mDWYUabe2G6476Ai78ROUV-hcaBzIiXCf1-4SNC=s64",
      "userId": "02384852736303734518"
     },
     "user_tz": -540
    },
    "id": "4hBT-eOFY-vQ",
    "outputId": "ed84c194-9e16-4a29-ce11-97ed17a33fa9",
    "scrolled": true
   },
   "outputs": [],
   "source": [
    "## prepare inputs\n",
    "\n",
    "def roberta_encode(speeches_list):\n",
    "    # tokenizer\n",
    "    tokenizer = RobertaTokenizer.from_pretrained(\"roberta-large\")\n",
    "    # token\n",
    "    speech_tokens = list(\n",
    "        map(\n",
    "            lambda t: tokenizer.tokenize(t)[-511:], speeches_list\n",
    "        )\n",
    "    )\n",
    "    # encode   -ids\n",
    "    speech_ids = list(\n",
    "        map(\n",
    "            lambda t: tokenizer.encode(t, add_special_tokens=True), speech_tokens\n",
    "        )\n",
    "    )\n",
    "    # 要素の大きさを512に　つめる\n",
    "\n",
    "    speech_ids = sequence.pad_sequences(\n",
    "        speech_ids, maxlen=512, truncating='post', padding='post', dtype='int'\n",
    "    )\n",
    "\n",
    "    return speech_ids\n",
    "\n",
    "\n",
    "Mspeech_ids_train = roberta_encode(Mspeech_train)\n",
    "Mspeech_ids_test = roberta_encode(Mspeech_test)\n",
    "Pspeech_ids = roberta_encode(Pspeeches_list)\n",
    "Fspeech_ids = roberta_encode(Fspeeches_list)\n"
   ]
  },
  {
   "cell_type": "code",
   "execution_count": 6,
   "metadata": {
    "colab": {
     "base_uri": "https://localhost:8080/",
     "height": 34
    },
    "colab_type": "code",
    "executionInfo": {
     "elapsed": 17542,
     "status": "ok",
     "timestamp": 1574817584711,
     "user": {
      "displayName": "慎太郎澤田",
      "photoUrl": "https://lh3.googleusercontent.com/a-/AAuE7mDWYUabe2G6476Ai78ROUV-hcaBzIiXCf1-4SNC=s64",
      "userId": "02384852736303734518"
     },
     "user_tz": -540
    },
    "id": "VkfyYrZIY-vd",
    "outputId": "6050f2e2-ed8c-4069-86d0-58baaa96a2cb"
   },
   "outputs": [],
   "source": [
    "# embedding\n",
    "\n",
    "def roberta_embedding(speech_ids):\n",
    "    # to_tensor\n",
    "    input_roberta = torch.tensor(speech_ids)\n",
    "    # input_size\n",
    "    input_roberta = input_roberta.to(device)\n",
    "    roberta = RobertaModel.from_pretrained(\"roberta-large\")\n",
    "    roberta = roberta.to(device)\n",
    "    with torch.no_grad():\n",
    "        roberta_out = roberta(input_roberta)\n",
    "    pooled_speech = roberta_out[1]\n",
    "    return pooled_speech\n",
    "\n",
    "Mpooled_speech_train = roberta_embedding(Mspeech_ids_train)\n",
    "Ppooled_speech = roberta_embedding(Pspeech_ids)\n",
    "Fpooled_speech = roberta_embedding(Fspeech_ids)\n",
    "Mpooled_speech_test = roberta_embedding(Mspeech_ids_test)"
   ]
  },
  {
   "cell_type": "code",
   "execution_count": null,
   "metadata": {},
   "outputs": [],
   "source": [
    "\"\"\"\n",
    "import csv\n",
    "with open('Fpooled_speech.csv', 'wt') as f:\n",
    "    writer = csv.writer(f)\n",
    "    writer.writerows(Fpooled_speech)\n"
   ]
  },
  {
   "cell_type": "code",
   "execution_count": 7,
   "metadata": {},
   "outputs": [
    {
     "data": {
      "text/plain": [
       "[28.5, 24.2, 27.1, 20.0, 14.2, 8.57, -25.7, -5.71, -20.0, -15.7]"
      ]
     },
     "execution_count": 7,
     "metadata": {},
     "output_type": "execute_result"
    }
   ],
   "source": [
    "Mscore_test = Mscore_list[:10]\n",
    "Mscore_train = Mscore_list[10:]\n",
    "Mscore_test"
   ]
  },
  {
   "cell_type": "code",
   "execution_count": 8,
   "metadata": {
    "colab": {
     "base_uri": "https://localhost:8080/",
     "height": 105
    },
    "colab_type": "code",
    "executionInfo": {
     "elapsed": 554,
     "status": "ok",
     "timestamp": 1574817829994,
     "user": {
      "displayName": "慎太郎澤田",
      "photoUrl": "https://lh3.googleusercontent.com/a-/AAuE7mDWYUabe2G6476Ai78ROUV-hcaBzIiXCf1-4SNC=s64",
      "userId": "02384852736303734518"
     },
     "user_tz": -540
    },
    "id": "dsUsGWORZ1-h",
    "outputId": "23283589-87ba-485c-dc1e-f966f3467903"
   },
   "outputs": [],
   "source": [
    "# label 確認\n",
    "Mscore_train = torch.tensor(Mscore_train, device=device)\n",
    "Pscore = torch.tensor(Pscore_list, device=device)\n",
    "Fscore = torch.tensor(Fscore_list, device=device)\n",
    "Mscore_test = torch.tensor(Mscore_test, device=device)"
   ]
  },
  {
   "cell_type": "code",
   "execution_count": 9,
   "metadata": {},
   "outputs": [],
   "source": [
    "# dataset\n",
    "class Mydataset(torch.utils.data.Dataset):\n",
    "    def __init__(self, data, label):\n",
    "        self.data = data\n",
    "        self.data_num = len(data)\n",
    "        self.label = label\n",
    "        \n",
    "    def __len__(self):\n",
    "        return self.data_num\n",
    "    \n",
    "    def __getitem__(self, idx):\n",
    "        out_data = self.data[idx]\n",
    "        out_label = self.label[idx]\n",
    "        return out_data, out_label"
   ]
  },
  {
   "cell_type": "code",
   "execution_count": 10,
   "metadata": {},
   "outputs": [
    {
     "name": "stdout",
     "output_type": "stream",
     "text": [
      "microchip:50\tpart-job:11\tfour-work:10\n"
     ]
    }
   ],
   "source": [
    "Mdata_set_train = Mydataset(Mpooled_speech_train, Mscore_train)\n",
    "Pdata_set = Mydataset(Ppooled_speech, Pscore)\n",
    "Fdata_set = Mydataset(Fpooled_speech, Fscore)\n",
    "Mdata_set_test = Mydataset(Mpooled_speech_test, Mscore_test)\n",
    "\n",
    "print(\"microchip:{}\\tpart-job:{}\\tfour-work:{}\".format(len(Mdata_set_train)+len(Mdata_set_test), len(Pdata_set), len(Fdata_set)))"
   ]
  },
  {
   "cell_type": "code",
   "execution_count": null,
   "metadata": {},
   "outputs": [],
   "source": [
    "# Mrand+P+F : Mrand\n",
    "train_dataset = Mdata_set_train + Pdata_set + Fdata_set\n",
    "test_dataset = Mdata_set_test"
   ]
  },
  {
   "cell_type": "code",
   "execution_count": null,
   "metadata": {},
   "outputs": [],
   "source": [
    "# M+P : F\n",
    "train_dataset = Mdata_set_train + Mdata_set_test + Pdata_set\n",
    "test_dataset = Fdata_set"
   ]
  },
  {
   "cell_type": "code",
   "execution_count": 11,
   "metadata": {},
   "outputs": [],
   "source": [
    "# M+F : P\n",
    "train_dataset = Mdata_set_train + Fdata_set + Mdata_set_test\n",
    "test_dataset = Pdata_set"
   ]
  },
  {
   "cell_type": "code",
   "execution_count": 12,
   "metadata": {
    "colab": {},
    "colab_type": "code",
    "id": "GChf8nfCkBfv"
   },
   "outputs": [],
   "source": [
    "# define_model\n",
    "class Net(nn.Module):\n",
    "    def __init__(self):\n",
    "        super(Net, self).__init__()\n",
    "        self.fc1 = nn.Linear(1024, 1)\n",
    "\n",
    "    def forward(self, x):\n",
    "        out = self.fc1(x)\n",
    "        return out"
   ]
  },
  {
   "cell_type": "code",
   "execution_count": 25,
   "metadata": {
    "colab": {},
    "colab_type": "code",
    "id": "MIAszZrCRNnV"
   },
   "outputs": [],
   "source": [
    "# hyper params\n",
    "num_epochs = 1000\n",
    "learning_rate = 3e-7\n",
    "\n",
    "model_cls = Net()\n",
    "criterion = nn.MSELoss()\n",
    "optimizer = optim.Adam(model_cls.parameters(), lr=learning_rate)\n",
    "model_cls = model_cls.to(device)"
   ]
  },
  {
   "cell_type": "code",
   "execution_count": 34,
   "metadata": {
    "colab": {
     "base_uri": "https://localhost:8080/",
     "height": 134
    },
    "colab_type": "code",
    "executionInfo": {
     "elapsed": 508,
     "status": "error",
     "timestamp": 1574817994882,
     "user": {
      "displayName": "慎太郎澤田",
      "photoUrl": "https://lh3.googleusercontent.com/a-/AAuE7mDWYUabe2G6476Ai78ROUV-hcaBzIiXCf1-4SNC=s64",
      "userId": "02384852736303734518"
     },
     "user_tz": -540
    },
    "id": "_tTogMIjpHDw",
    "outputId": "47ed36a3-8620-4ac9-f521-df71fb1660e8",
    "scrolled": true
   },
   "outputs": [
    {
     "name": "stdout",
     "output_type": "stream",
     "text": [
      "Epoch:10, Loss(train):460.44, Loss(val):404.87\n",
      "Epoch:20, Loss(train):460.43, Loss(val):404.86\n",
      "Epoch:30, Loss(train):460.42, Loss(val):404.86\n",
      "Epoch:40, Loss(train):460.42, Loss(val):404.86\n",
      "Epoch:50, Loss(train):460.41, Loss(val):404.85\n",
      "Epoch:60, Loss(train):460.41, Loss(val):404.85\n",
      "Epoch:70, Loss(train):460.40, Loss(val):404.85\n",
      "Epoch:80, Loss(train):460.39, Loss(val):404.84\n",
      "Epoch:90, Loss(train):460.39, Loss(val):404.84\n",
      "Epoch:100, Loss(train):460.38, Loss(val):404.84\n",
      "Epoch:110, Loss(train):460.38, Loss(val):404.83\n",
      "Epoch:120, Loss(train):460.37, Loss(val):404.83\n",
      "Epoch:130, Loss(train):460.37, Loss(val):404.83\n",
      "Epoch:140, Loss(train):460.36, Loss(val):404.82\n",
      "Epoch:150, Loss(train):460.35, Loss(val):404.82\n",
      "Epoch:160, Loss(train):460.35, Loss(val):404.82\n",
      "Epoch:170, Loss(train):460.34, Loss(val):404.82\n",
      "Epoch:180, Loss(train):460.34, Loss(val):404.81\n",
      "Epoch:190, Loss(train):460.33, Loss(val):404.81\n",
      "Epoch:200, Loss(train):460.33, Loss(val):404.81\n",
      "Epoch:210, Loss(train):460.32, Loss(val):404.80\n",
      "Epoch:220, Loss(train):460.32, Loss(val):404.80\n",
      "Epoch:230, Loss(train):460.31, Loss(val):404.80\n",
      "Epoch:240, Loss(train):460.30, Loss(val):404.80\n",
      "Epoch:250, Loss(train):460.30, Loss(val):404.79\n",
      "Epoch:260, Loss(train):460.29, Loss(val):404.79\n",
      "Epoch:270, Loss(train):460.29, Loss(val):404.79\n",
      "Epoch:280, Loss(train):460.28, Loss(val):404.79\n",
      "Epoch:290, Loss(train):460.28, Loss(val):404.79\n",
      "Epoch:300, Loss(train):460.27, Loss(val):404.78\n",
      "Epoch:310, Loss(train):460.27, Loss(val):404.78\n",
      "Epoch:320, Loss(train):460.26, Loss(val):404.78\n",
      "Epoch:330, Loss(train):460.26, Loss(val):404.78\n",
      "Epoch:340, Loss(train):460.25, Loss(val):404.78\n",
      "Epoch:350, Loss(train):460.24, Loss(val):404.77\n",
      "Epoch:360, Loss(train):460.24, Loss(val):404.77\n",
      "Epoch:370, Loss(train):460.23, Loss(val):404.77\n",
      "Epoch:380, Loss(train):460.23, Loss(val):404.77\n",
      "Epoch:390, Loss(train):460.22, Loss(val):404.77\n",
      "Epoch:400, Loss(train):460.22, Loss(val):404.76\n",
      "Epoch:410, Loss(train):460.21, Loss(val):404.76\n",
      "Epoch:420, Loss(train):460.21, Loss(val):404.76\n",
      "Epoch:430, Loss(train):460.20, Loss(val):404.76\n",
      "Epoch:440, Loss(train):460.20, Loss(val):404.76\n",
      "Epoch:450, Loss(train):460.19, Loss(val):404.76\n",
      "Epoch:460, Loss(train):460.19, Loss(val):404.76\n",
      "Epoch:470, Loss(train):460.18, Loss(val):404.75\n",
      "Epoch:480, Loss(train):460.18, Loss(val):404.75\n",
      "Epoch:490, Loss(train):460.17, Loss(val):404.75\n",
      "Epoch:500, Loss(train):460.17, Loss(val):404.75\n",
      "Epoch:510, Loss(train):460.16, Loss(val):404.75\n",
      "Epoch:520, Loss(train):460.16, Loss(val):404.75\n",
      "Epoch:530, Loss(train):460.15, Loss(val):404.75\n",
      "Epoch:540, Loss(train):460.15, Loss(val):404.75\n",
      "Epoch:550, Loss(train):460.14, Loss(val):404.75\n",
      "Epoch:560, Loss(train):460.13, Loss(val):404.75\n",
      "Epoch:570, Loss(train):460.13, Loss(val):404.74\n",
      "Epoch:580, Loss(train):460.12, Loss(val):404.74\n",
      "Epoch:590, Loss(train):460.12, Loss(val):404.74\n",
      "Epoch:600, Loss(train):460.11, Loss(val):404.74\n",
      "Epoch:610, Loss(train):460.11, Loss(val):404.74\n",
      "Epoch:620, Loss(train):460.10, Loss(val):404.74\n",
      "Epoch:630, Loss(train):460.10, Loss(val):404.74\n",
      "Epoch:640, Loss(train):460.09, Loss(val):404.74\n",
      "Epoch:650, Loss(train):460.09, Loss(val):404.74\n",
      "Epoch:660, Loss(train):460.08, Loss(val):404.74\n",
      "Epoch:670, Loss(train):460.08, Loss(val):404.74\n",
      "Epoch:680, Loss(train):460.07, Loss(val):404.74\n",
      "Epoch:690, Loss(train):460.07, Loss(val):404.74\n",
      "Epoch:700, Loss(train):460.06, Loss(val):404.74\n",
      "Epoch:710, Loss(train):460.06, Loss(val):404.74\n",
      "Epoch:720, Loss(train):460.05, Loss(val):404.74\n",
      "Epoch:730, Loss(train):460.05, Loss(val):404.74\n",
      "Epoch:740, Loss(train):460.04, Loss(val):404.74\n",
      "Epoch:750, Loss(train):460.04, Loss(val):404.74\n",
      "Epoch:760, Loss(train):460.04, Loss(val):404.74\n",
      "Epoch:770, Loss(train):460.03, Loss(val):404.74\n",
      "Epoch:780, Loss(train):460.03, Loss(val):404.74\n",
      "Epoch:790, Loss(train):460.02, Loss(val):404.74\n",
      "Epoch:800, Loss(train):460.02, Loss(val):404.74\n",
      "Epoch:810, Loss(train):460.01, Loss(val):404.74\n",
      "Epoch:820, Loss(train):460.01, Loss(val):404.74\n",
      "Epoch:830, Loss(train):460.00, Loss(val):404.74\n",
      "Epoch:840, Loss(train):460.00, Loss(val):404.74\n",
      "Epoch:850, Loss(train):459.99, Loss(val):404.74\n",
      "Epoch:860, Loss(train):459.99, Loss(val):404.74\n",
      "Epoch:870, Loss(train):459.98, Loss(val):404.74\n",
      "Epoch:880, Loss(train):459.98, Loss(val):404.74\n",
      "Epoch:890, Loss(train):459.97, Loss(val):404.74\n",
      "Epoch:900, Loss(train):459.97, Loss(val):404.74\n",
      "Epoch:910, Loss(train):459.96, Loss(val):404.74\n",
      "Epoch:920, Loss(train):459.96, Loss(val):404.74\n",
      "Epoch:930, Loss(train):459.95, Loss(val):404.74\n",
      "Epoch:940, Loss(train):459.95, Loss(val):404.74\n",
      "Epoch:950, Loss(train):459.94, Loss(val):404.74\n",
      "Epoch:960, Loss(train):459.94, Loss(val):404.74\n",
      "Epoch:970, Loss(train):459.93, Loss(val):404.75\n",
      "Epoch:980, Loss(train):459.93, Loss(val):404.75\n",
      "Epoch:990, Loss(train):459.93, Loss(val):404.75\n",
      "Epoch:1000, Loss(train):459.92, Loss(val):404.75\n",
      "----DONE----\n"
     ]
    }
   ],
   "source": [
    "\n",
    "# set\\data\\logger\n",
    "loss_log = []\n",
    "loss_v_log = []\n",
    "\n",
    "\n",
    "for epoch in range(num_epochs):\n",
    "    running_loss = 0.0\n",
    "    running_v_loss = 0.0\n",
    "    for i, data in enumerate(train_dataset):\n",
    "        x_t, y_t = data\n",
    "        optimizer.zero_grad()\n",
    "        # forward pass\n",
    "        outputs = model_cls(x_t)\n",
    "        loss = criterion(outputs, y_t)\n",
    "        \n",
    "        # backward\n",
    "        loss.backward()\n",
    "        optimizer.step()\n",
    "    \n",
    "        running_loss += loss.item()\n",
    "        \n",
    "    loss_log.append(running_loss/len(train_dataset))\n",
    "    \n",
    "    with torch.no_grad():\n",
    "        for j, data in enumerate(test_dataset):\n",
    "            x_val, y_val = data\n",
    "            outputs_val = model_cls(x_val)\n",
    "            loss = criterion(outputs_val, y_val)\n",
    "            running_v_loss += loss.item()\n",
    "        loss_v_log.append(running_v_loss/len(test_dataset))\n",
    "            \n",
    "    if (epoch+1) % 10 == 0:\n",
    "        print(\"Epoch:{}, Loss(train):{:.2f}, Loss(val):{:.2f}\".format(epoch+1, running_loss/len(train_dataset), running_v_loss/len(test_dataset)))\n",
    "\n",
    "\n",
    "    \n",
    "print('----DONE----')"
   ]
  },
  {
   "cell_type": "code",
   "execution_count": 35,
   "metadata": {
    "colab": {
     "base_uri": "https://localhost:8080/",
     "height": 566
    },
    "colab_type": "code",
    "executionInfo": {
     "elapsed": 946,
     "status": "ok",
     "timestamp": 1574818452121,
     "user": {
      "displayName": "慎太郎澤田",
      "photoUrl": "https://lh3.googleusercontent.com/a-/AAuE7mDWYUabe2G6476Ai78ROUV-hcaBzIiXCf1-4SNC=s64",
      "userId": "02384852736303734518"
     },
     "user_tz": -540
    },
    "id": "OC1WQNuda_Wi",
    "outputId": "942f6e43-97bc-44c9-af63-ffb2a52d8d80"
   },
   "outputs": [
    {
     "data": {
      "image/png": "[encoded data removed]",
      "text/plain": [
       "<Figure size 432x288 with 1 Axes>"
      ]
     },
     "metadata": {
      "needs_background": "light"
     },
     "output_type": "display_data"
    },
    {
     "data": {
      "text/plain": [
       "[<matplotlib.lines.Line2D at 0x7f9f7cf4c4d0>]"
      ]
     },
     "execution_count": 35,
     "metadata": {},
     "output_type": "execute_result"
    },
    {
     "data": {
      "image/png": "[encoded data removed]",
      "text/plain": [
       "<Figure size 432x288 with 1 Axes>"
      ]
     },
     "metadata": {
      "needs_background": "light"
     },
     "output_type": "display_data"
    }
   ],
   "source": [
    "plt.plot(loss_log)\n",
    "plt.xlabel('epoch')\n",
    "plt.ylabel('loss')\n",
    "plt.show()\n",
    "\n",
    "plt.plot(loss_v_log)"
   ]
  },
  {
   "cell_type": "code",
   "execution_count": null,
   "metadata": {
    "colab": {
     "base_uri": "https://localhost:8080/",
     "height": 561
    },
    "colab_type": "code",
    "executionInfo": {
     "elapsed": 1142,
     "status": "ok",
     "timestamp": 1574148580161,
     "user": {
      "displayName": "慎太郎澤田",
      "photoUrl": "https://lh3.googleusercontent.com/a-/AAuE7mDWYUabe2G6476Ai78ROUV-hcaBzIiXCf1-4SNC=s64",
      "userId": "02384852736303734518"
     },
     "user_tz": -540
    },
    "id": "vAcF38cauE7y",
    "outputId": "15ca0259-48a7-4d4e-e602-ffc4108d103e",
    "scrolled": true
   },
   "outputs": [],
   "source": [
    "# test\n",
    "running_test_loss = 0.0\n",
    "for i, data in enumerate(test_dataset):\n",
    "    x_test, y_test = data\n",
    "    with torch.no_grad():\n",
    "        pred = model_cls(x_test)\n",
    "        loss = criterion(pred, y_test)\n",
    "        running_test_loss += loss.item()\n",
    "        print(\"pred:{:.4f}\\ty_test:{:.4f}\".format(pred.item(), y_test.item()))\n",
    "print(running_test_loss/len(test_dataset))"
   ]
  },
  {
   "cell_type": "code",
   "execution_count": null,
   "metadata": {},
   "outputs": [],
   "source": []
  }
 ],
 "metadata": {
  "accelerator": "GPU",
  "colab": {
   "collapsed_sections": [],
   "name": "roberta_linear_test.ipynb",
   "provenance": []
  },
  "kernelspec": {
   "display_name": "Python 3",
   "language": "python",
   "name": "python3"
  },
  "language_info": {
   "codemirror_mode": {
    "name": "ipython",
    "version": 3
   },
   "file_extension": ".py",
   "mimetype": "text/x-python",
   "name": "python",
   "nbconvert_exporter": "python",
   "pygments_lexer": "ipython3",
   "version": "3.7.5"
  }
 },
 "nbformat": 4,
 "nbformat_minor": 1
}
