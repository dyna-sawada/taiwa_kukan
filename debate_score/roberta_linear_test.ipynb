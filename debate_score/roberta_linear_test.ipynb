{
 "cells": [
  {
   "cell_type": "code",
   "execution_count": 1,
   "metadata": {
    "colab": {},
    "colab_type": "code",
    "id": "cDuMI1wKZ3XX"
   },
   "outputs": [
    {
     "data": {
      "text/plain": [
       "'/home/dyna/Documents/sawada/debate_score'"
      ]
     },
     "execution_count": 1,
     "metadata": {},
     "output_type": "execute_result"
    }
   ],
   "source": [
    "import os\n",
    "path = os.getcwd()\n",
    "path"
   ]
  },
  {
   "cell_type": "code",
   "execution_count": 2,
   "metadata": {
    "colab": {
     "base_uri": "https://localhost:8080/",
     "height": 474
    },
    "colab_type": "code",
    "executionInfo": {
     "elapsed": 7811,
     "status": "ok",
     "timestamp": 1574817552481,
     "user": {
      "displayName": "慎太郎澤田",
      "photoUrl": "https://lh3.googleusercontent.com/a-/AAuE7mDWYUabe2G6476Ai78ROUV-hcaBzIiXCf1-4SNC=s64",
      "userId": "02384852736303734518"
     },
     "user_tz": -540
    },
    "id": "U1ekbciYY-u8",
    "outputId": "84610b52-8184-4600-8001-db5d867347b3"
   },
   "outputs": [
    {
     "name": "stderr",
     "output_type": "stream",
     "text": [
      "Using TensorFlow backend.\n"
     ]
    }
   ],
   "source": [
    "# roberta_linear_test\n",
    "## import module\n",
    "\n",
    "import random\n",
    "import numpy as np\n",
    "from transformers import RobertaConfig, RobertaModel, RobertaTokenizer\n",
    "import torch\n",
    "import torch.nn as nn\n",
    "import torch.optim as optim\n",
    "import torch.nn.functional as F\n",
    "from torch.autograd import Variable\n",
    "from torch.utils.tensorboard import SummaryWriter\n",
    "from keras.preprocessing import sequence\n",
    "from matplotlib import pyplot as plt\n",
    "import set_debates\n"
   ]
  },
  {
   "cell_type": "code",
   "execution_count": 3,
   "metadata": {
    "colab": {
     "base_uri": "https://localhost:8080/",
     "height": 34
    },
    "colab_type": "code",
    "executionInfo": {
     "elapsed": 1611,
     "status": "ok",
     "timestamp": 1574817554717,
     "user": {
      "displayName": "慎太郎澤田",
      "photoUrl": "https://lh3.googleusercontent.com/a-/AAuE7mDWYUabe2G6476Ai78ROUV-hcaBzIiXCf1-4SNC=s64",
      "userId": "02384852736303734518"
     },
     "user_tz": -540
    },
    "id": "zRt1CtAUWx7I",
    "outputId": "0b709b59-3f25-4235-93fd-1e638543a9f6"
   },
   "outputs": [
    {
     "data": {
      "text/plain": [
       "device(type='cuda')"
      ]
     },
     "execution_count": 3,
     "metadata": {},
     "output_type": "execute_result"
    }
   ],
   "source": [
    "# cuda\n",
    "device = torch.device(\"cuda\" if torch.cuda.is_available() else \"cpu\")\n",
    "device"
   ]
  },
  {
   "cell_type": "code",
   "execution_count": 4,
   "metadata": {
    "colab": {},
    "colab_type": "code",
    "id": "bLybtAqtY-u8",
    "scrolled": true
   },
   "outputs": [
    {
     "data": {
      "text/plain": [
       "50"
      ]
     },
     "execution_count": 4,
     "metadata": {},
     "output_type": "execute_result"
    }
   ],
   "source": [
    "## speech, score set\n",
    "\n",
    "microchip_debate = \"./topic/microchip/debates.txt\"\n",
    "microchip_order = \"./topic/microchip/orders.txt\"\n",
    "microchip_score = \"./topic/microchip/scores.txt\"\n",
    "part_job_debate = \"./topic/part-time-job/debates.txt\"\n",
    "part_job_order = \"./topic/part-time-job/orders.txt\"\n",
    "part_job_score = \"./topic/part-time-job/scores.txt\"\n",
    "four_work_debate = \"./topic/four-day-work/debates.txt\"\n",
    "four_work_order = \"./topic/four-day-work/orders.txt\"\n",
    "four_work_score = \"./topic/four-day-work/scores.txt\"\n",
    "\n",
    "# microchip_speech\n",
    "Mdebate_lists = set_debates.set_speech_list(microchip_debate,microchip_order)\n",
    "Mspeeches_list = set_debates.flatten(Mdebate_lists)\n",
    "# microchip_score\n",
    "with open(microchip_score, 'r') as h:\n",
    "    scores = h.read()\n",
    "    Mscore_list = [float(s) for s in scores.split()]\n",
    "\n",
    "# part_job_speech\n",
    "Pdebate_lists = set_debates.set_speech_list(part_job_debate,part_job_order)\n",
    "Pspeeches_list = set_debates.flatten(Pdebate_lists)\n",
    "# part_job_score\n",
    "with open(part_job_score, 'r') as h:\n",
    "    scores = h.read()\n",
    "    Pscore_list = [float(s) for s in scores.split()]\n",
    "\n",
    "# four-work_speech\n",
    "Fdebate_lists = set_debates.set_speech_list(four_work_debate, four_work_order)\n",
    "Fspeeches_list = set_debates.flatten(Fdebate_lists)\n",
    "# four-work_score\n",
    "with open(four_work_score, 'r') as h:\n",
    "    scores = h.read()\n",
    "    Fscore_list = [float(s) for s in scores.split()]\n",
    "    \n",
    "# check    \n",
    "len(Mspeeches_list)"
   ]
  },
  {
   "cell_type": "code",
   "execution_count": 5,
   "metadata": {
    "colab": {
     "base_uri": "https://localhost:8080/",
     "height": 496
    },
    "colab_type": "code",
    "executionInfo": {
     "elapsed": 2040,
     "status": "ok",
     "timestamp": 1574817563139,
     "user": {
      "displayName": "慎太郎澤田",
      "photoUrl": "https://lh3.googleusercontent.com/a-/AAuE7mDWYUabe2G6476Ai78ROUV-hcaBzIiXCf1-4SNC=s64",
      "userId": "02384852736303734518"
     },
     "user_tz": -540
    },
    "id": "4hBT-eOFY-vQ",
    "outputId": "ed84c194-9e16-4a29-ce11-97ed17a33fa9",
    "scrolled": true
   },
   "outputs": [],
   "source": [
    "## prepare inputs\n",
    "\n",
    "def roberta_encode(speeches_list):\n",
    "    # tokenizer\n",
    "    tokenizer = RobertaTokenizer.from_pretrained(\"roberta-large\")\n",
    "    # token\n",
    "    speech_tokens = list(\n",
    "        map(\n",
    "            lambda t: tokenizer.tokenize(t)[:511], speeches_list\n",
    "        )\n",
    "    )\n",
    "    # encode   -ids\n",
    "    speech_ids = list(\n",
    "        map(\n",
    "            lambda t: tokenizer.encode(t, add_special_tokens=True), speech_tokens\n",
    "        )\n",
    "    )\n",
    "    # 要素の大きさを512に　つめる\n",
    "    speech_ids = sequence.pad_sequences(\n",
    "        speech_ids, maxlen=512, truncating='post', padding='post', dtype='int'\n",
    "    )\n",
    "    return speech_ids\n",
    "\n",
    "Mspeech_ids = roberta_encode(Mspeeches_list)\n",
    "Pspeech_ids = roberta_encode(Pspeeches_list)\n",
    "Fspeech_ids = roberta_encode(Fspeeches_list)\n"
   ]
  },
  {
   "cell_type": "code",
   "execution_count": 6,
   "metadata": {
    "colab": {
     "base_uri": "https://localhost:8080/",
     "height": 34
    },
    "colab_type": "code",
    "executionInfo": {
     "elapsed": 578,
     "status": "ok",
     "timestamp": 1574817565678,
     "user": {
      "displayName": "慎太郎澤田",
      "photoUrl": "https://lh3.googleusercontent.com/a-/AAuE7mDWYUabe2G6476Ai78ROUV-hcaBzIiXCf1-4SNC=s64",
      "userId": "02384852736303734518"
     },
     "user_tz": -540
    },
    "id": "-JsWGMJWY-vW",
    "outputId": "7fdf7002-c837-4101-f82a-986e90df960d"
   },
   "outputs": [
    {
     "name": "stdout",
     "output_type": "stream",
     "text": [
      "microchip:50\tpart-jpb:11\tfour-work:10\n"
     ]
    }
   ],
   "source": [
    "# 確認\n",
    "print(\"microchip:{}\\tpart-jpb:{}\\tfour-work:{}\".format(len(Mspeech_ids),len(Pspeech_ids), len(Fspeech_ids)))"
   ]
  },
  {
   "cell_type": "code",
   "execution_count": 7,
   "metadata": {
    "colab": {
     "base_uri": "https://localhost:8080/",
     "height": 34
    },
    "colab_type": "code",
    "executionInfo": {
     "elapsed": 17542,
     "status": "ok",
     "timestamp": 1574817584711,
     "user": {
      "displayName": "慎太郎澤田",
      "photoUrl": "https://lh3.googleusercontent.com/a-/AAuE7mDWYUabe2G6476Ai78ROUV-hcaBzIiXCf1-4SNC=s64",
      "userId": "02384852736303734518"
     },
     "user_tz": -540
    },
    "id": "VkfyYrZIY-vd",
    "outputId": "6050f2e2-ed8c-4069-86d0-58baaa96a2cb"
   },
   "outputs": [],
   "source": [
    "# embedding\n",
    "\n",
    "def roberta_embedding(speech_ids):\n",
    "    # to_tensor\n",
    "    input_roberta = torch.tensor(speech_ids)\n",
    "    # input_size\n",
    "    input_roberta = input_roberta.to(device)\n",
    "    roberta = RobertaModel.from_pretrained(\"roberta-large\")\n",
    "    roberta = roberta.to(device)\n",
    "    with torch.no_grad():\n",
    "        roberta_out = roberta(input_roberta)\n",
    "    pooled_speech = roberta_out[1]\n",
    "    return pooled_speech\n",
    "\n",
    "Mpooled_speech = roberta_embedding(Mspeech_ids)\n",
    "Ppooled_speech = roberta_embedding(Pspeech_ids)\n",
    "Fpooled_speech = roberta_embedding(Fspeech_ids)\n"
   ]
  },
  {
   "cell_type": "code",
   "execution_count": 8,
   "metadata": {
    "colab": {},
    "colab_type": "code",
    "id": "xi7ZbVG0H7bl",
    "scrolled": true
   },
   "outputs": [
    {
     "data": {
      "text/plain": [
       "'\\nimport pandas as pd\\n\\npd.set_option(\\'display.max_columns\\', 200)\\nprint(pd.get_option(\"display.max_columns\"))\\npd.set_option(\\'display.max_rows\\', 200)\\nprint(pd.get_option(\"display.max_rows\"))\\n\\npooled_speech = pooled_speech.cpu().numpy()\\ntamtam = pd.DataFrame(pooled_speech)\\n## numpyになおしている注意\\ntamtam.to_csv(\"pooled_speech.csv\")\\n'"
      ]
     },
     "execution_count": 8,
     "metadata": {},
     "output_type": "execute_result"
    }
   ],
   "source": [
    "\"\"\"\n",
    "import pandas as pd\n",
    "\n",
    "pd.set_option('display.max_columns', 200)\n",
    "print(pd.get_option(\"display.max_columns\"))\n",
    "pd.set_option('display.max_rows', 200)\n",
    "print(pd.get_option(\"display.max_rows\"))\n",
    "\n",
    "pooled_speech = pooled_speech.cpu().numpy()\n",
    "tamtam = pd.DataFrame(pooled_speech)\n",
    "## numpyになおしている注意\n",
    "tamtam.to_csv(\"pooled_speech.csv\")\n",
    "\"\"\""
   ]
  },
  {
   "cell_type": "code",
   "execution_count": 9,
   "metadata": {
    "colab": {
     "base_uri": "https://localhost:8080/",
     "height": 105
    },
    "colab_type": "code",
    "executionInfo": {
     "elapsed": 554,
     "status": "ok",
     "timestamp": 1574817829994,
     "user": {
      "displayName": "慎太郎澤田",
      "photoUrl": "https://lh3.googleusercontent.com/a-/AAuE7mDWYUabe2G6476Ai78ROUV-hcaBzIiXCf1-4SNC=s64",
      "userId": "02384852736303734518"
     },
     "user_tz": -540
    },
    "id": "dsUsGWORZ1-h",
    "outputId": "23283589-87ba-485c-dc1e-f966f3467903"
   },
   "outputs": [],
   "source": [
    "# label 確認\n",
    "Mscore = torch.tensor(Mscore_list, device=device)\n",
    "Pscore = torch.tensor(Pscore_list, device=device)\n",
    "Fscore = torch.tensor(Fscore_list, device=device)\n"
   ]
  },
  {
   "cell_type": "code",
   "execution_count": 10,
   "metadata": {},
   "outputs": [],
   "source": [
    "# dataset\n",
    "class Mydataset(torch.utils.data.Dataset):\n",
    "    def __init__(self, data, label):\n",
    "        self.data = data\n",
    "        self.data_num = len(data)\n",
    "        self.label = label\n",
    "        \n",
    "    def __len__(self):\n",
    "        return self.data_num\n",
    "    \n",
    "    def __getitem__(self, idx):\n",
    "        out_data = self.data[idx]\n",
    "        out_label = self.label[idx]\n",
    "        return out_data, out_label"
   ]
  },
  {
   "cell_type": "code",
   "execution_count": 11,
   "metadata": {},
   "outputs": [
    {
     "name": "stdout",
     "output_type": "stream",
     "text": [
      "microchip:50\tpart-job:11\tfour-work:10\n"
     ]
    }
   ],
   "source": [
    "Mdata_set = Mydataset(Mpooled_speech, Mscore)\n",
    "Pdata_set = Mydataset(Ppooled_speech, Pscore)\n",
    "Fdata_set = Mydataset(Fpooled_speech, Fscore)\n",
    "\n",
    "print(\"microchip:{}\\tpart-job:{}\\tfour-work:{}\".format(len(Mdata_set), len(Pdata_set), len(Fdata_set)))"
   ]
  },
  {
   "cell_type": "code",
   "execution_count": 12,
   "metadata": {
    "colab": {},
    "colab_type": "code",
    "id": "GChf8nfCkBfv"
   },
   "outputs": [],
   "source": [
    "# define_model\n",
    "class Net(nn.Module):\n",
    "    def __init__(self):\n",
    "        super(Net, self).__init__()\n",
    "        self.fc1 = nn.Linear(1024, 1)\n",
    "\n",
    "    def forward(self, x):\n",
    "        out = self.fc1(x)\n",
    "        return out"
   ]
  },
  {
   "cell_type": "code",
   "execution_count": 13,
   "metadata": {
    "colab": {},
    "colab_type": "code",
    "id": "MIAszZrCRNnV"
   },
   "outputs": [],
   "source": [
    "# hyper params\n",
    "num_epochs = 500\n",
    "learning_rate = 3e-3\n",
    "\n",
    "model_cls = Net()\n",
    "criterion = nn.MSELoss()\n",
    "optimizer = optim.Adam(model_cls.parameters(), lr=learning_rate)\n",
    "model_cls = model_cls.to(device)"
   ]
  },
  {
   "cell_type": "code",
   "execution_count": 14,
   "metadata": {
    "colab": {
     "base_uri": "https://localhost:8080/",
     "height": 134
    },
    "colab_type": "code",
    "executionInfo": {
     "elapsed": 508,
     "status": "error",
     "timestamp": 1574817994882,
     "user": {
      "displayName": "慎太郎澤田",
      "photoUrl": "https://lh3.googleusercontent.com/a-/AAuE7mDWYUabe2G6476Ai78ROUV-hcaBzIiXCf1-4SNC=s64",
      "userId": "02384852736303734518"
     },
     "user_tz": -540
    },
    "id": "_tTogMIjpHDw",
    "outputId": "47ed36a3-8620-4ac9-f521-df71fb1660e8",
    "scrolled": true
   },
   "outputs": [
    {
     "name": "stderr",
     "output_type": "stream",
     "text": [
      "/home/dyna/anaconda3/envs/debate_senkoh/lib/python3.7/site-packages/torch/nn/modules/loss.py:431: UserWarning: Using a target size (torch.Size([])) that is different to the input size (torch.Size([1])). This will likely lead to incorrect results due to broadcasting. Please ensure they have the same size.\n",
      "  return F.mse_loss(input, target, reduction=self.reduction)\n"
     ]
    },
    {
     "name": "stdout",
     "output_type": "stream",
     "text": [
      "Epoch:100, Loss(train):385.1845, Loss(val):379.8448\n",
      "Epoch:200, Loss(train):319.9972, Loss(val):350.0650\n",
      "Epoch:300, Loss(train):270.8926, Loss(val):329.7623\n",
      "Epoch:400, Loss(train):232.7144, Loss(val):318.5787\n",
      "Epoch:500, Loss(train):202.3343, Loss(val):315.3089\n",
      "----DONE----\n"
     ]
    }
   ],
   "source": [
    "\n",
    "# set\\data\\logger\n",
    "loss_log = []\n",
    "loss_v_log = []\n",
    "\n",
    "\n",
    "for epoch in range(num_epochs):\n",
    "    running_loss = 0.0\n",
    "    running_v_loss = 0.0\n",
    "    for i, data in enumerate(Mdata_set):\n",
    "        x_t, y_t = data\n",
    "        optimizer.zero_grad()\n",
    "        # forward pass\n",
    "        outputs = model_cls(x_t)\n",
    "        loss = criterion(outputs, y_t)\n",
    "        \n",
    "        # backward\n",
    "        loss.backward()\n",
    "        optimizer.step()\n",
    "    \n",
    "        running_loss += loss.item()\n",
    "        \n",
    "    loss_log.append(running_loss/50)\n",
    "    \n",
    "    with torch.no_grad():\n",
    "        for j, data in enumerate(Pdata_set):\n",
    "            x_val, y_val = data\n",
    "            outputs_val = model_cls(x_val)\n",
    "            loss = criterion(outputs_val, y_val)\n",
    "            running_v_loss += loss.item()\n",
    "        loss_v_log.append(running_v_loss/11)\n",
    "            \n",
    "    if (epoch+1) % 100 == 0:\n",
    "        print(\"Epoch:{}, Loss(train):{:.4f}, Loss(val):{:.4f}\".format(epoch+1, running_loss/50, running_v_loss/11))\n",
    "\n",
    "\n",
    "    \n",
    "print('----DONE----')"
   ]
  },
  {
   "cell_type": "code",
   "execution_count": 15,
   "metadata": {
    "colab": {
     "base_uri": "https://localhost:8080/",
     "height": 566
    },
    "colab_type": "code",
    "executionInfo": {
     "elapsed": 946,
     "status": "ok",
     "timestamp": 1574818452121,
     "user": {
      "displayName": "慎太郎澤田",
      "photoUrl": "https://lh3.googleusercontent.com/a-/AAuE7mDWYUabe2G6476Ai78ROUV-hcaBzIiXCf1-4SNC=s64",
      "userId": "02384852736303734518"
     },
     "user_tz": -540
    },
    "id": "OC1WQNuda_Wi",
    "outputId": "942f6e43-97bc-44c9-af63-ffb2a52d8d80"
   },
   "outputs": [
    {
     "data": {
      "image/png": "[encoded data removed]",
      "text/plain": [
       "<Figure size 432x288 with 1 Axes>"
      ]
     },
     "metadata": {
      "needs_background": "light"
     },
     "output_type": "display_data"
    },
    {
     "data": {
      "text/plain": [
       "[<matplotlib.lines.Line2D at 0x7f2e55d0fa50>]"
      ]
     },
     "execution_count": 15,
     "metadata": {},
     "output_type": "execute_result"
    },
    {
     "data": {
      "image/png": "[encoded data removed]",
      "text/plain": [
       "<Figure size 432x288 with 1 Axes>"
      ]
     },
     "metadata": {
      "needs_background": "light"
     },
     "output_type": "display_data"
    }
   ],
   "source": [
    "plt.plot(loss_log)\n",
    "plt.xlabel('epoch')\n",
    "plt.ylabel('loss')\n",
    "plt.show()\n",
    "\n",
    "plt.plot(loss_v_log)"
   ]
  },
  {
   "cell_type": "code",
   "execution_count": 16,
   "metadata": {
    "colab": {
     "base_uri": "https://localhost:8080/",
     "height": 561
    },
    "colab_type": "code",
    "executionInfo": {
     "elapsed": 1142,
     "status": "ok",
     "timestamp": 1574148580161,
     "user": {
      "displayName": "慎太郎澤田",
      "photoUrl": "https://lh3.googleusercontent.com/a-/AAuE7mDWYUabe2G6476Ai78ROUV-hcaBzIiXCf1-4SNC=s64",
      "userId": "02384852736303734518"
     },
     "user_tz": -540
    },
    "id": "vAcF38cauE7y",
    "outputId": "15ca0259-48a7-4d4e-e602-ffc4108d103e"
   },
   "outputs": [
    {
     "name": "stdout",
     "output_type": "stream",
     "text": [
      "tensor([4.9653], device='cuda:0') tensor(29., device='cuda:0')\n",
      "tensor([4.9653], device='cuda:0') tensor(15., device='cuda:0')\n",
      "tensor([4.9653], device='cuda:0') tensor(25., device='cuda:0')\n",
      "tensor([4.9653], device='cuda:0') tensor(14., device='cuda:0')\n",
      "tensor([1.5914], device='cuda:0') tensor(18., device='cuda:0')\n",
      "tensor([3.8106], device='cuda:0') tensor(8., device='cuda:0')\n",
      "tensor([3.1403], device='cuda:0') tensor(-31., device='cuda:0')\n",
      "tensor([-2.1335], device='cuda:0') tensor(-20., device='cuda:0')\n",
      "tensor([-10.0981], device='cuda:0') tensor(-20., device='cuda:0')\n",
      "tensor([0.3355], device='cuda:0') tensor(-24., device='cuda:0')\n",
      "362.32068901062013\n"
     ]
    }
   ],
   "source": [
    "# test (F)\n",
    "running_test_loss = 0.0\n",
    "for i, data in enumerate(Fdata_set):\n",
    "    x_test, y_test = data\n",
    "    with torch.no_grad():\n",
    "        pred = model_cls(x_test)\n",
    "        loss = criterion(pred, y_test)\n",
    "        running_test_loss += loss.item()\n",
    "        print(pred,y_test)\n",
    "print(running_test_loss/10)"
   ]
  },
  {
   "cell_type": "code",
   "execution_count": null,
   "metadata": {},
   "outputs": [],
   "source": []
  }
 ],
 "metadata": {
  "accelerator": "GPU",
  "colab": {
   "collapsed_sections": [],
   "name": "roberta_linear_test.ipynb",
   "provenance": []
  },
  "kernelspec": {
   "display_name": "Python 3",
   "language": "python",
   "name": "python3"
  },
  "language_info": {
   "codemirror_mode": {
    "name": "ipython",
    "version": 3
   },
   "file_extension": ".py",
   "mimetype": "text/x-python",
   "name": "python",
   "nbconvert_exporter": "python",
   "pygments_lexer": "ipython3",
   "version": "3.7.5"
  }
 },
 "nbformat": 4,
 "nbformat_minor": 1
}
